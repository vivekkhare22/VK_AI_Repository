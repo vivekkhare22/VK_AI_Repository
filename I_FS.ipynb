{
  "nbformat": 4,
  "nbformat_minor": 0,
  "metadata": {
    "colab": {
      "provenance": [],
      "authorship_tag": "ABX9TyPPtxwdJGTCiR/MFnHYzaa6",
      "include_colab_link": true
    },
    "kernelspec": {
      "name": "python3",
      "display_name": "Python 3"
    },
    "language_info": {
      "name": "python"
    }
  },
  "cells": [
    {
      "cell_type": "markdown",
      "metadata": {
        "id": "view-in-github",
        "colab_type": "text"
      },
      "source": [
        "<a href=\"https://colab.research.google.com/github/vivekkhare22/VK_AI_Repository/blob/main/I_FS.ipynb\" target=\"_parent\"><img src=\"https://colab.research.google.com/assets/colab-badge.svg\" alt=\"Open In Colab\"/></a>"
      ]
    },
    {
      "cell_type": "code",
      "execution_count": 27,
      "metadata": {
        "colab": {
          "base_uri": "https://localhost:8080/"
        },
        "id": "Egw0FYV4CTyx",
        "outputId": "f09abd3b-37e5-4c04-e955-edd4d42385f0"
      },
      "outputs": [
        {
          "output_type": "stream",
          "name": "stdout",
          "text": [
            "✅ Connected to Google Account successfully!\n"
          ]
        }
      ],
      "source": [
        "# ======================================================\n",
        "# 📘 IFS AI Functional Spec & Test Case Generator\n",
        "# Tools: Google Colab + Google Sheets + OpenAI GPT\n",
        "# ======================================================\n",
        "\n",
        "# Step 1️⃣: Connect Google Colab with Google Account\n",
        "from google.colab import auth\n",
        "auth.authenticate_user()\n",
        "\n",
        "import gspread\n",
        "from google.auth import default\n",
        "creds, _ = default()\n",
        "gc = gspread.authorize(creds)\n",
        "\n",
        "print(\"✅ Connected to Google Account successfully!\")\n"
      ]
    },
    {
      "cell_type": "code",
      "source": [
        "# ------------------------------------------------------\n",
        "# Step 2️⃣: Open your Google Sheet\n",
        "SHEET_NAME = \"IFS_AI_Spec_Generator\"   # <-- replace with your actual sheet name if different\n",
        "req_ws = gc.open(SHEET_NAME).worksheet(\"Requirements\")\n",
        "out_ws = gc.open(SHEET_NAME).worksheet(\"AI_Output\")\n",
        "\n",
        "print(\"✅ Connected to Google Sheet:\", SHEET_NAME)"
      ],
      "metadata": {
        "colab": {
          "base_uri": "https://localhost:8080/"
        },
        "id": "DQq6PjCFDO7m",
        "outputId": "be970785-edbc-426d-c4c7-72bc201b7433"
      },
      "execution_count": 28,
      "outputs": [
        {
          "output_type": "stream",
          "name": "stdout",
          "text": [
            "✅ Connected to Google Sheet: IFS_AI_Spec_Generator\n"
          ]
        }
      ]
    },
    {
      "cell_type": "code",
      "source": [
        "# ======================================================\n",
        "# 📘 IFS AI Functional Spec & Test Case Generator\n",
        "# Tools: Google Colab + Google Sheets + OpenAI GPT\n",
        "# ======================================================\n",
        "\n",
        "!pip install openai --quiet\n",
        "\n",
        "import datetime\n",
        "import time\n",
        "from openai import OpenAI\n",
        "from google.colab import userdata\n",
        "\n",
        "# ✅ Get OpenAI API key from userdata (set via Colab > ⚙️ > User Secrets)\n",
        "openai_api_key = userdata.get('OPENAI_API_KEY')\n",
        "client = OpenAI(api_key=openai_api_key)\n",
        "\n",
        "print(\"✅ OpenAI Client Connected\")\n",
        "\n",
        "# ------------------------------------------------------\n",
        "# Step 4️⃣: Read all requirements\n",
        "data = req_ws.get_all_records()\n",
        "\n",
        "def generate_spec_and_testcases(module, summary, expected):\n",
        "    prompt = f\"\"\"\n",
        "    You are an expert IFS ERP Functional Consultant.\n",
        "    Based on the following requirement, generate a detailed Functional Specification\n",
        "    and 5 Test Cases in professional ERP format.\n",
        "\n",
        "    Module: {module}\n",
        "    Requirement Summary: {summary}\n",
        "    Expected Outcome: {expected}\n",
        "\n",
        "    Output Format:\n",
        "    1. Functional Overview\n",
        "    2. Business Logic / Validation Rules\n",
        "    3. Configuration or Customization Details\n",
        "    4. Test Scenarios (in table format: Test Case ID, Steps, Expected Result)\n",
        "    \"\"\"\n",
        "\n",
        "    response = client.responses.create(\n",
        "        model=\"gpt-4.1-mini\",\n",
        "        input=prompt,\n",
        "    )\n",
        "\n",
        "    return response.output_text\n",
        "\n",
        "# ------------------------------------------------------\n",
        "# Step 5️⃣: Process Pending Requirements with On-Screen Preview\n",
        "for i, row in enumerate(data, start=2):\n",
        "    try:\n",
        "        status = row.get(\"Status\", \"\").strip().lower()\n",
        "        if status == \"sent to ai\":\n",
        "            req_id = row.get(\"Requirement ID\", \"\")\n",
        "            module = row.get(\"Module\", \"\")\n",
        "            summary = row.get(\"Requirement Summary\", \"\")\n",
        "            expected = row.get(\"Expected Outcome\", \"\")\n",
        "\n",
        "            print(\"\\n\" + \"=\"*90)\n",
        "            print(f\"🚀 Processing Requirement ID: {req_id or f'Row {i}'}\")\n",
        "            print(f\"📘 Module: {module}\")\n",
        "            print(f\"🧾 Summary: {summary}\")\n",
        "            print(\"-\"*90)\n",
        "\n",
        "            result = generate_spec_and_testcases(module, summary, expected)\n",
        "\n",
        "            # 🔍 Preview output in Colab\n",
        "            print(\"🧠 AI Generated Output:\")\n",
        "            print(result)\n",
        "            print(\"=\"*90)\n",
        "\n",
        "            # Pause briefly to respect API rate limits\n",
        "            time.sleep(1)\n",
        "\n",
        "            # Append output to \"AI_Output\"\n",
        "            out_ws.append_row([\n",
        "                req_id,\n",
        "                result,\n",
        "                \"Auto-generated Test Cases included above\",\n",
        "                datetime.datetime.now().strftime(\"%Y-%m-%d %H:%M:%S\"),\n",
        "                \"AI\"\n",
        "            ])\n",
        "\n",
        "            # ✅ Update status in Requirements sheet\n",
        "            req_ws.update_acell(f\"H{i}\", \"Completed\")\n",
        "            print(f\"✅ Status updated to 'Completed' for {req_id or f'Row {i}'}\")\n",
        "\n",
        "    except Exception as e:\n",
        "        print(f\"❌ Error processing row {i}: {e}\")\n",
        "\n",
        "print(\"\\n🎉 All 'Sent to AI' requirements processed successfully!\")\n"
      ],
      "metadata": {
        "colab": {
          "base_uri": "https://localhost:8080/"
        },
        "id": "Aiyg17sZ-Flw",
        "outputId": "c878de1d-a5c2-4480-b49a-7cb18c94450f"
      },
      "execution_count": 47,
      "outputs": [
        {
          "output_type": "stream",
          "name": "stdout",
          "text": [
            "✅ OpenAI Client Connected\n",
            "\n",
            "==========================================================================================\n",
            "🚀 Processing Requirement ID: ac978e4a\n",
            "📘 Module: Finance\n",
            "🧾 Summary: Add validation to prevent invoice posting without matching PO line.\n",
            "------------------------------------------------------------------------------------------\n",
            "🧠 AI Generated Output:\n",
            "---\n",
            "\n",
            "### Functional Specification Document\n",
            "\n",
            "**Module:** Finance  \n",
            "**Feature:** Invoice Posting Validation for Matching Purchase Order (PO) Line  \n",
            "**Document Version:** 1.0  \n",
            "**Prepared By:** [Consultant Name]  \n",
            "**Date:** [Date]\n",
            "\n",
            "---\n",
            "\n",
            "#### 1. Functional Overview\n",
            "\n",
            "The objective is to enforce a validation in the Invoice Posting process within the Finance module of IFS ERP to ensure that every invoice line must reference a valid and matching Purchase Order (PO) line before successful posting. This validation aims to enhance data integrity, control procurement invoicing errors, and ensure proper matching of invoice receipts against procurement commitments.\n",
            "\n",
            "Currently, the system allows invoices to be posted without referencing or verifying the associated PO line, which can lead to discrepancies and payment without proper authorization. The enhancement will restrict the invoice posting process by validating the PO reference and matching PO line presence for each invoice line.\n",
            "\n",
            "---\n",
            "\n",
            "#### 2. Business Logic / Validation Rules\n",
            "\n",
            "- For every invoice line entered in the invoice posting screen, the user must provide a valid PO number and PO line reference.\n",
            "- The system checks:\n",
            "  - The PO must exist within the system.\n",
            "  - The PO line referenced must exist and belong to the PO.\n",
            "  - The PO line status should allow invoicing (not canceled or fully invoiced).\n",
            "  - The invoiced quantity or amount on the invoice line should not exceed the remaining quantity or amount on the referenced PO line.\n",
            "- If any of the above validations fail, the system will display a descriptive error message and prevent posting.\n",
            "- Invoice posting is only allowed when all invoice lines have a valid matching PO line.\n",
            "\n",
            "---\n",
            "\n",
            "#### 3. Configuration or Customization Details\n",
            "\n",
            "- **Validation Trigger:**  \n",
            "  - Implement validation during the invoice posting event in the Finance module via modification or extension of the invoice posting transactional logic.\n",
            "- **Technical Implementation:**  \n",
            "  - Add a check within the `Invoice_Post` function module or equivalent processing routine.\n",
            "  - Perform database lookups in PO header and PO line tables (e.g., `PO_HEADER`, `PO_LINE`) to validate the existence and status.\n",
            "  - Add cross-module reference validation ensuring integrity between Purchasing and Finance modules.\n",
            "- **UI Changes:**  \n",
            "  - Invoice line entry screens will include mandatory PO reference fields if not already present.\n",
            "  - Validation error messages must be displayed on the invoice posting screen.\n",
            "- **Error Messages Examples:**  \n",
            "  - \"Invoice line [X]: PO number [Y] does not exist.\"  \n",
            "  - \"Invoice line [X]: PO line [Z] is invalid or not open for invoicing.\"  \n",
            "  - \"Invoice line [X]: Invoice quantity exceeds PO line quantity balance.\"\n",
            "- **Security and Authorization:**  \n",
            "  - Only authorized finance and procurement roles will have access to post invoices.\n",
            "- **Configuration Parameters:**  \n",
            "  - Optionally configurable toggle in system parameters to activate/deactivate this validation as per business needs.\n",
            "- **Dependencies:**  \n",
            "  - Ensure Purchase Order modules and Finance modules are correctly integrated.\n",
            "\n",
            "---\n",
            "\n",
            "#### 4. Test Scenarios\n",
            "\n",
            "| Test Case ID | Steps                                                                                      | Expected Result                                                                                                     |\n",
            "|--------------|--------------------------------------------------------------------------------------------|---------------------------------------------------------------------------------------------------------------------|\n",
            "| TC_FIN_001   | 1. Create an invoice with invoice line referencing an existing PO and PO line with open status.<br>2. Post the invoice. | Invoice posting succeeds successfully without errors.                                                              |\n",
            "| TC_FIN_002   | 1. Create an invoice having invoice line referencing a non-existent PO number.<br>2. Attempt to post the invoice.          | System displays error: \"Invoice line [X]: PO number [Y] does not exist.\" Posting is prevented.                      |\n",
            "| TC_FIN_003   | 1. Create an invoice with a valid PO number but invalid PO line reference (e.g., non-existent line).<br>2. Attempt to post invoice. | System displays error: \"Invoice line [X]: PO line [Z] is invalid or not open for invoicing.\" Posting is prevented.  |\n",
            "| TC_FIN_004   | 1. Create an invoice for PO line that is fully invoiced or canceled.<br>2. Attempt to post.                                   | System displays error: \"Invoice line [X]: PO line [Z] is not open for invoicing.\" Posting is prevented.             |\n",
            "| TC_FIN_005   | 1. Create an invoice line referencing a valid PO and PO line but invoice quantity exceeds PO line balance.<br>2. Attempt to post. | System displays error: \"Invoice line [X]: Invoice quantity exceeds PO line quantity balance.\" Posting is prevented.  |\n",
            "\n",
            "---\n",
            "\n",
            "**End of Document**\n",
            "==========================================================================================\n",
            "✅ Status updated to 'Completed' for ac978e4a\n",
            "\n",
            "🎉 All 'Sent to AI' requirements processed successfully!\n"
          ]
        }
      ]
    }
  ]
}