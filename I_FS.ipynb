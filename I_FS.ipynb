{
  "nbformat": 4,
  "nbformat_minor": 0,
  "metadata": {
    "colab": {
      "provenance": [],
      "authorship_tag": "ABX9TyPPtxwdJGTCiR/MFnHYzaa6",
      "include_colab_link": true
    },
    "kernelspec": {
      "name": "python3",
      "display_name": "Python 3"
    },
    "language_info": {
      "name": "python"
    }
  },
  "cells": [
    {
      "cell_type": "markdown",
      "metadata": {
        "id": "view-in-github",
        "colab_type": "text"
      },
      "source": [
        "<a href=\"https://colab.research.google.com/github/vivekkhare22/VK_AI_Repository/blob/main/I_FS.ipynb\" target=\"_parent\"><img src=\"https://colab.research.google.com/assets/colab-badge.svg\" alt=\"Open In Colab\"/></a>"
      ]
    },
    {
      "cell_type": "code",
      "execution_count": null,
      "metadata": {
        "id": "Egw0FYV4CTyx"
      },
      "outputs": [],
      "source": [
        "# ======================================================\n",
        "# 📘 IFS AI Functional Spec & Test Case Generator\n",
        "# Tools: Google Colab + Google Sheets + OpenAI GPT\n",
        "# ======================================================\n",
        "\n",
        "# Step 1️⃣: Connect Google Colab with Google Account\n",
        "from google.colab import auth\n",
        "auth.authenticate_user()\n",
        "\n",
        "import gspread\n",
        "from google.auth import default\n",
        "creds, _ = default()\n",
        "gc = gspread.authorize(creds)\n",
        "\n",
        "print(\"✅ Connected to Google Account successfully!\")\n"
      ]
    },
    {
      "cell_type": "code",
      "source": [
        "# ------------------------------------------------------\n",
        "# Step 2️⃣: Open your Google Sheet\n",
        "SHEET_NAME = \"IFS_AI_Spec_Generator\"   # <-- replace with your actual sheet name if different\n",
        "req_ws = gc.open(SHEET_NAME).worksheet(\"Requirements\")\n",
        "out_ws = gc.open(SHEET_NAME).worksheet(\"AI_Output\")\n",
        "\n",
        "print(\"✅ Connected to Google Sheet:\", SHEET_NAME)"
      ],
      "metadata": {
        "id": "DQq6PjCFDO7m"
      },
      "execution_count": null,
      "outputs": []
    },
    {
      "cell_type": "code",
      "source": [
        "# ======================================================\n",
        "# 📘 IFS AI Functional Spec & Test Case Generator\n",
        "# Tools: Google Colab + Google Sheets + OpenAI GPT\n",
        "# ======================================================\n",
        "\n",
        "!pip install openai --quiet\n",
        "\n",
        "import datetime\n",
        "import time\n",
        "from openai import OpenAI\n",
        "from google.colab import userdata\n",
        "\n",
        "# ✅ Get OpenAI API key from userdata (set via Colab > ⚙️ > User Secrets)\n",
        "openai_api_key = userdata.get('OPENAI_API_KEY')\n",
        "client = OpenAI(api_key=openai_api_key)\n",
        "\n",
        "print(\"✅ OpenAI Client Connected\")\n",
        "\n",
        "# ------------------------------------------------------\n",
        "# Step 4️⃣: Read all requirements\n",
        "data = req_ws.get_all_records()\n",
        "\n",
        "def generate_spec_and_testcases(module, summary, expected):\n",
        "    prompt = f\"\"\"\n",
        "    You are an expert IFS ERP Functional Consultant.\n",
        "    Based on the following requirement, generate a detailed Functional Specification\n",
        "    and 5 Test Cases in professional ERP format.\n",
        "\n",
        "    Module: {module}\n",
        "    Requirement Summary: {summary}\n",
        "    Expected Outcome: {expected}\n",
        "\n",
        "    Output Format:\n",
        "    1. Functional Overview\n",
        "    2. Business Logic / Validation Rules\n",
        "    3. Configuration or Customization Details\n",
        "    4. Test Scenarios (in table format: Test Case ID, Steps, Expected Result)\n",
        "    \"\"\"\n",
        "\n",
        "    response = client.responses.create(\n",
        "        model=\"gpt-4.1-mini\",\n",
        "        input=prompt,\n",
        "    )\n",
        "\n",
        "    return response.output_text\n",
        "\n",
        "# ------------------------------------------------------\n",
        "# Step 5️⃣: Process Pending Requirements with On-Screen Preview\n",
        "for i, row in enumerate(data, start=2):\n",
        "    try:\n",
        "        status = row.get(\"Status\", \"\").strip().lower()\n",
        "        if status == \"sent to ai\":\n",
        "            req_id = row.get(\"Requirement ID\", \"\")\n",
        "            module = row.get(\"Module\", \"\")\n",
        "            summary = row.get(\"Requirement Summary\", \"\")\n",
        "            expected = row.get(\"Expected Outcome\", \"\")\n",
        "\n",
        "            print(\"\\n\" + \"=\"*90)\n",
        "            print(f\"🚀 Processing Requirement ID: {req_id or f'Row {i}'}\")\n",
        "            print(f\"📘 Module: {module}\")\n",
        "            print(f\"🧾 Summary: {summary}\")\n",
        "            print(\"-\"*90)\n",
        "\n",
        "            result = generate_spec_and_testcases(module, summary, expected)\n",
        "\n",
        "            # 🔍 Preview output in Colab\n",
        "            print(\"🧠 AI Generated Output:\")\n",
        "            print(result)\n",
        "            print(\"=\"*90)\n",
        "\n",
        "            # Pause briefly to respect API rate limits\n",
        "            time.sleep(1)\n",
        "\n",
        "            # Append output to \"AI_Output\"\n",
        "            out_ws.append_row([\n",
        "                req_id,\n",
        "                result,\n",
        "                \"Auto-generated Test Cases included above\",\n",
        "                datetime.datetime.now().strftime(\"%Y-%m-%d %H:%M:%S\"),\n",
        "                \"AI\"\n",
        "            ])\n",
        "\n",
        "            # ✅ Update status in Requirements sheet\n",
        "            req_ws.update_acell(f\"H{i}\", \"Completed\")\n",
        "            print(f\"✅ Status updated to 'Completed' for {req_id or f'Row {i}'}\")\n",
        "\n",
        "    except Exception as e:\n",
        "        print(f\"❌ Error processing row {i}: {e}\")\n",
        "\n",
        "print(\"\\n🎉 All 'Sent to AI' requirements processed successfully!\")\n"
      ],
      "metadata": {
        "id": "Aiyg17sZ-Flw"
      },
      "execution_count": null,
      "outputs": []
    }
  ]
}